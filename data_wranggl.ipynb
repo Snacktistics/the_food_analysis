{
 "cells": [
  {
   "cell_type": "code",
   "execution_count": 16,
   "id": "6365237c-22cf-4c06-ae31-987d1b8da095",
   "metadata": {},
   "outputs": [
    {
     "name": "stderr",
     "output_type": "stream",
     "text": [
      "/Users/Michael/opt/anaconda3/lib/python3.12/site-packages/openpyxl/styles/stylesheet.py:226: UserWarning: Workbook contains no default style, apply openpyxl's default\n",
      "  warn(\"Workbook contains no default style, apply openpyxl's default\")\n"
     ]
    }
   ],
   "source": [
    "import pandas as pd\n",
    "\n",
    "\n",
    "files = [\n",
    "    \"Canadian Income Survey, 2018.xlsx\",\n",
    "    \"Canadian Income Survey, 2019.xlsx\",\n",
    "    \"Canadian Income Survey, 2020.xlsx\",\n",
    "    \"Canadian Income Survey, 2021.xlsx\"\n",
    "]\n",
    "\n",
    "# Converting files into dataframes\n",
    "dfs = [pd.read_excel(file) for file in files]\n",
    "\n",
    "# using 2018 dataset to define order of columns\n",
    "clms = dfs[0].columns.tolist()\n",
    "\n",
    "# Rearranging columns to match 2018 dataset\n",
    "for i, df in enumerate(dfs):\n",
    "    dfs[i] = df[clms]\n",
    "\n",
    "# Stacking datasets\n",
    "combined_data = pd.concat(dfs, ignore_index=True)\n",
    "\n",
    "# Sorting By using column \"YEAR\"\n",
    "combined_data['YEAR'] = combined_data['YEAR'].astype(int) # Convert to int if necessary\n",
    "combined_data = combined_data.sort_values(by='YEAR')"
   ]
  },
  {
   "cell_type": "code",
   "execution_count": 5,
   "id": "18b1e6d0-0b5b-40dd-802c-c6cc6ecfde9b",
   "metadata": {},
   "outputs": [],
   "source": [
    "# saving the combined data set\n",
    "combined_data.to_excel(\"Combined_Canadian_Income_Survey.xlsx\", index=False)"
   ]
  },
  {
   "cell_type": "code",
   "execution_count": 17,
   "id": "04b3d25a-925a-40c6-b84d-56216783e6ab",
   "metadata": {},
   "outputs": [],
   "source": [
    "# Shortening the notation of the combined data set\n",
    "cis = pd.read_excel(\"Combined_Canadian_Income_Survey.xlsx\")"
   ]
  },
  {
   "cell_type": "code",
   "execution_count": 26,
   "id": "ba55ac02-5d57-4064-85db-0a3221b1fda7",
   "metadata": {},
   "outputs": [
    {
     "data": {
      "text/plain": [
       "0                  Ontario\n",
       "1         British Columbia\n",
       "2                   Quebec\n",
       "3                   Quebec\n",
       "4                   Quebec\n",
       "                ...       \n",
       "380631              Quebec\n",
       "380632             Ontario\n",
       "380633             Ontario\n",
       "380634             Ontario\n",
       "380635             Alberta\n",
       "Name: PROV, Length: 380636, dtype: object"
      ]
     },
     "execution_count": 26,
     "metadata": {},
     "output_type": "execute_result"
    }
   ],
   "source": [
    "# Changing provincial data in the combined data to strings\n",
    "cis.PROV.replace([10, 11, 12, 13, 24, 35, 46, 47, 48, 59, 60, 61, 62, 96, 97, 98, 99], [\"Newfoundland and Labrador\",\"Prince Edward Island\",\"Nova Scotia\",\"New Brunswick\",\"Quebec\",\"Ontario\",\"Manitoba\",\"Saskatchewan\",\"Alberta\",\"British Columbia\",\"Yukon\",\"Northwest Territories\",\"Nunavut\",\"NaN\",\"NaN\",\"NaN\",\"NaN\"])"
   ]
  },
  {
   "cell_type": "code",
   "execution_count": 28,
   "id": "d55b5194-efee-4a2f-91d6-dfc2e33562e3",
   "metadata": {},
   "outputs": [
    {
     "data": {
      "text/plain": [
       "0         35\n",
       "1         59\n",
       "2         24\n",
       "3         24\n",
       "4         24\n",
       "          ..\n",
       "380631    24\n",
       "380632    35\n",
       "380633    35\n",
       "380634    35\n",
       "380635    48\n",
       "Name: PROV, Length: 380636, dtype: int64"
      ]
     },
     "execution_count": 28,
     "metadata": {},
     "output_type": "execute_result"
    }
   ],
   "source": []
  },
  {
   "cell_type": "code",
   "execution_count": null,
   "id": "114b1a21-0f5e-42f2-9c9f-52fa184bd3b2",
   "metadata": {},
   "outputs": [],
   "source": []
  }
 ],
 "metadata": {
  "kernelspec": {
   "display_name": "Python 3 (ipykernel)",
   "language": "python",
   "name": "python3"
  },
  "language_info": {
   "codemirror_mode": {
    "name": "ipython",
    "version": 3
   },
   "file_extension": ".py",
   "mimetype": "text/x-python",
   "name": "python",
   "nbconvert_exporter": "python",
   "pygments_lexer": "ipython3",
   "version": "3.12.4"
  }
 },
 "nbformat": 4,
 "nbformat_minor": 5
}
