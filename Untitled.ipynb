{
 "cells": [
  {
   "cell_type": "code",
   "execution_count": 1,
   "id": "c60754b3-68e5-40ed-a849-538fb1feebef",
   "metadata": {},
   "outputs": [],
   "source": [
    "import pandas as pd\n",
    "\n",
    "df = pd.read_csv(\"CIS_Food_Spending_merged_data.csv\")"
   ]
  },
  {
   "cell_type": "code",
   "execution_count": 3,
   "id": "e2439f01-dee3-44a7-a75f-7ecd1e0226d6",
   "metadata": {},
   "outputs": [
    {
     "name": "stdout",
     "output_type": "stream",
     "text": [
      "<class 'pandas.core.frame.DataFrame'>\n",
      "RangeIndex: 417087 entries, 0 to 417086\n",
      "Data columns (total 10 columns):\n",
      " #   Column            Non-Null Count   Dtype  \n",
      "---  ------            --------------   -----  \n",
      " 0   INDEX 1 (IGNORE)  417087 non-null  int64  \n",
      " 1   INDEX 2 (IGNORE)  417087 non-null  int64  \n",
      " 2   YEAR              417087 non-null  int64  \n",
      " 3   PROV              417087 non-null  object \n",
      " 4   EFSIZE            417087 non-null  int64  \n",
      " 5   EFATINC           417087 non-null  int64  \n",
      " 6   FSCHHLDM          302382 non-null  float64\n",
      " 7   Way_to_Spend      324789 non-null  object \n",
      " 8   Value             324789 non-null  float64\n",
      " 9   Unit              324789 non-null  object \n",
      "dtypes: float64(2), int64(5), object(3)\n",
      "memory usage: 31.8+ MB\n"
     ]
    }
   ],
   "source": [
    "df.info()"
   ]
  },
  {
   "cell_type": "code",
   "execution_count": 5,
   "id": "23a7bd91-8e78-4a65-942b-27f7ab339b6c",
   "metadata": {},
   "outputs": [
    {
     "data": {
      "text/plain": [
       "INDEX 1 (IGNORE)         0\n",
       "INDEX 2 (IGNORE)         0\n",
       "YEAR                     0\n",
       "PROV                     0\n",
       "EFSIZE                   0\n",
       "EFATINC                  0\n",
       "FSCHHLDM            114705\n",
       "Way_to_Spend         92298\n",
       "Value                92298\n",
       "Unit                 92298\n",
       "dtype: int64"
      ]
     },
     "execution_count": 5,
     "metadata": {},
     "output_type": "execute_result"
    }
   ],
   "source": [
    "df.isna().sum()"
   ]
  },
  {
   "cell_type": "code",
   "execution_count": null,
   "id": "23ac59db-3389-44fa-8a1b-b6d3cdb99131",
   "metadata": {},
   "outputs": [],
   "source": []
  }
 ],
 "metadata": {
  "kernelspec": {
   "display_name": "Python 3 (ipykernel)",
   "language": "python",
   "name": "python3"
  },
  "language_info": {
   "codemirror_mode": {
    "name": "ipython",
    "version": 3
   },
   "file_extension": ".py",
   "mimetype": "text/x-python",
   "name": "python",
   "nbconvert_exporter": "python",
   "pygments_lexer": "ipython3",
   "version": "3.12.4"
  }
 },
 "nbformat": 4,
 "nbformat_minor": 5
}
